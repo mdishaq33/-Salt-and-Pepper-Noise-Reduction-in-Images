{
  "nbformat": 4,
  "nbformat_minor": 0,
  "metadata": {
    "colab": {
      "provenance": [],
      "authorship_tag": "ABX9TyPcxGzoNOAMlELP0RPUd3AW",
      "include_colab_link": true
    },
    "kernelspec": {
      "name": "python3",
      "display_name": "Python 3"
    },
    "language_info": {
      "name": "python"
    }
  },
  "cells": [
    {
      "cell_type": "markdown",
      "metadata": {
        "id": "view-in-github",
        "colab_type": "text"
      },
      "source": [
        "<a href=\"https://colab.research.google.com/github/mdishaq33/-Salt-and-Pepper-Noise-Reduction-in-Images/blob/main/Salt_and_Pepper_Noise_Reduction_in_Images.ipynb\" target=\"_parent\"><img src=\"https://colab.research.google.com/assets/colab-badge.svg\" alt=\"Open In Colab\"/></a>"
      ]
    },
    {
      "cell_type": "code",
      "execution_count": null,
      "metadata": {
        "id": "ofdzzff6-UuH"
      },
      "outputs": [],
      "source": [
        "#Salt and Pepper Noise Reduction in Images"
      ]
    },
    {
      "cell_type": "code",
      "source": [
        "import numpy as np\n",
        "import matplotlib.pyplot as plt\n",
        "from PIL import Image\n",
        "import io\n",
        "from google.colab import files\n",
        "\n",
        "def add_salt_and_pepper_noise(image, salt_prob, pepper_prob):\n",
        "    \"\"\"\n",
        "    Add salt and pepper noise to an image.\n",
        "    salt_prob: Probability of salt noise\n",
        "    pepper_prob: Pr\n",
        "    obability of pepper noise\n",
        "    \"\"\"\n",
        "    noisy_image = image.copy()\n",
        "    total_pixels = image.size\n",
        "    num_salt = int(np.ceil(salt_prob * total_pixels))\n",
        "    num_pepper = int(np.ceil(pepper_prob * total_pixels))\n",
        "\n",
        "    # Salt noise (white pixels)\n",
        "    coords = [np.random.randint(0, i - 1, num_salt) for i in image.shape]\n",
        "    noisy_image[coords[0], coords[1]] = 255\n",
        "\n",
        "    # Pepper noise (black pixels)\n",
        "    coords = [np.random.randint(0, i - 1, num_pepper) for i in image.shape]\n",
        "    noisy_image[coords[0], coords[1]] = 0\n",
        "\n",
        "    return noisy_image\n",
        "\n",
        "def median_filter(image, filter_size=3):\n",
        "    \"\"\"\n",
        "    Apply a median filter to the input grayscale image using NumPy only.\n",
        "    image: 2D numpy array\n",
        "    filter_size: size of the square filter (must be odd)\n",
        "    Returns the filtered image.\n",
        "    \"\"\"\n",
        "    assert filter_size % 2 == 1, \"Filter size must be odd.\"\n",
        "\n",
        "    pad_size = filter_size // 2\n",
        "    padded_image = np.pad(image, pad_size, mode='edge')\n",
        "    filtered_image = np.zeros_like(image)\n",
        "\n",
        "    for i in range(image.shape[0]):\n",
        "        for j in range(image.shape[1]):\n",
        "            # Extract the neighborhood\n",
        "            neighborhood = padded_image[i:i+filter_size, j:j+filter_size]\n",
        "            # Compute median and assign to output pixel\n",
        "            filtered_image[i, j] = np.median(neighborhood)\n",
        "    return filtered_image\n",
        "\n",
        "def load_user_image():\n",
        "    print(\"Please upload an image file (PNG, JPG, etc.).\")\n",
        "    uploaded = files.upload()\n",
        "    if len(uploaded) == 0:\n",
        "        print(\"No file uploaded. Exiting.\")\n",
        "        return None\n",
        "    file_name = next(iter(uploaded.keys()))\n",
        "    image_bytes = uploaded[file_name]\n",
        "    img = Image.open(io.BytesIO(image_bytes)).convert('L')  # convert to grayscale\n",
        "    img_np = np.array(img, dtype=np.uint8)\n",
        "    print(f\"Loaded image '{file_name}' with shape {img_np.shape}.\")\n",
        "    return img_np\n",
        "\n",
        "def main():\n",
        "    # Ask user if they want to upload an image or generate a gradient\n",
        "    choice = input(\"Enter 'u' to upload image or 'g' to generate gradient image (default 'g'): \").strip().lower()\n",
        "    if choice == 'u':\n",
        "        image = load_user_image()\n",
        "        if image is None:\n",
        "            print(\"Exiting due to no image upload.\")\n",
        "            return\n",
        "    else:\n",
        "        # Generate a sample grayscale gradient image\n",
        "        height, width = 100, 100\n",
        "        image = np.tile(np.linspace(0, 255, width, dtype=np.uint8), (height, 1))\n",
        "        print(\"Generated gradient image with shape:\", image.shape)\n",
        "\n",
        "    # User input for salt and pepper noise probabilities\n",
        "    while True:\n",
        "        try:\n",
        "            salt_prob = float(input(\"Enter the probability of salt noise (0 to 1, e.g., 0.05): \"))\n",
        "            if 0 <= salt_prob <= 1:\n",
        "                break\n",
        "            else:\n",
        "                print(\"Please enter a value between 0 and 1.\")\n",
        "        except ValueError:\n",
        "            print(\"Invalid input. Please enter a number.\")\n",
        "\n",
        "    while True:\n",
        "        try:\n",
        "            pepper_prob = float(input(\"Enter the probability of pepper noise (0 to 1, e.g., 0.05): \"))\n",
        "            if 0 <= pepper_prob <= 1:\n",
        "                break\n",
        "            else:\n",
        "                print(\"Please enter a value between 0 and 1.\")\n",
        "        except ValueError:\n",
        "            print(\"Invalid input. Please enter a number.\")\n",
        "\n",
        "    # Add salt and pepper noise\n",
        "    noisy_image = add_salt_and_pepper_noise(image, salt_prob, pepper_prob)\n",
        "\n",
        "    # User input for median filter size\n",
        "    while True:\n",
        "        try:\n",
        "            filter_size = int(input(\"Enter the size of the median filter (odd integer, e.g., 3): \"))\n",
        "            if filter_size % 2 == 1 and filter_size > 0:\n",
        "                break\n",
        "            else:\n",
        "                print(\"Filter size must be an odd positive integer.\")\n",
        "        except ValueError:\n",
        "            print(\"Invalid input. Please enter an odd integer.\")\n",
        "\n",
        "    # Apply median filter to clean noise\n",
        "    cleaned_image = median_filter(noisy_image, filter_size=filter_size)\n",
        "\n",
        "    # Save arrays as .npy files\n",
        "    np.save('original_image.npy', image)\n",
        "    np.save('noisy_image.npy', noisy_image)\n",
        "    np.save('cleaned_image.npy', cleaned_image)\n",
        "\n",
        "    print(\"Images saved as 'original_image.npy', 'noisy_image.npy', and 'cleaned_image.npy'.\")\n",
        "    print(\"You can load them using numpy.load() and visualize externally.\")\n",
        "\n",
        "    # Visualization\n",
        "    plt.figure(figsize=(15,5))\n",
        "    plt.subplot(1,3,1)\n",
        "    plt.title(\"Original\")\n",
        "    plt.imshow(image, cmap='gray')\n",
        "    plt.axis('off')\n",
        "\n",
        "    plt.subplot(1,3,2)\n",
        "    plt.title(\"Noisy\")\n",
        "    plt.imshow(noisy_image, cmap='gray')\n",
        "    plt.axis('off')\n",
        "\n",
        "    plt.subplot(1,3,3)\n",
        "    plt.title(\"Cleaned\")\n",
        "    plt.imshow(cleaned_image, cmap='gray')\n",
        "    plt.axis('off')\n",
        "\n",
        "    plt.show()\n",
        "\n",
        "if __name__ == \"__main__\":\n",
        "    main()\n",
        "\n"
      ],
      "metadata": {
        "colab": {
          "base_uri": "https://localhost:8080/",
          "height": 502
        },
        "id": "H0U7mFDs7Ap-",
        "outputId": "aa2d8211-aaac-4ac5-f017-fa3669ac72b1"
      },
      "execution_count": 9,
      "outputs": [
        {
          "output_type": "stream",
          "name": "stdout",
          "text": [
            "Enter 'u' to upload image or 'g' to generate gradient image (default 'g'): g\n",
            "Generated gradient image with shape: (100, 100)\n",
            "Enter the probability of salt noise (0 to 1, e.g., 0.05): 0.05\n",
            "Enter the probability of pepper noise (0 to 1, e.g., 0.05): 0.05\n",
            "Enter the size of the median filter (odd integer, e.g., 3): 3\n",
            "Images saved as 'original_image.npy', 'noisy_image.npy', and 'cleaned_image.npy'.\n",
            "You can load them using numpy.load() and visualize externally.\n"
          ]
        },
        {
          "output_type": "display_data",
          "data": {
            "text/plain": [
              "<Figure size 1500x500 with 3 Axes>"
            ],
            "image/png": "[encoded data removed]"
          },
          "metadata": {}
        }
      ]
    },
    {
      "cell_type": "code",
      "source": [],
      "metadata": {
        "id": "UDBteh8e8Y5W"
      },
      "execution_count": null,
      "outputs": []
    }
  ]
}